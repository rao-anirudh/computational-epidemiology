{
 "cells": [
  {
   "cell_type": "markdown",
   "id": "f738c7e9",
   "metadata": {},
   "source": [
    "<h1><center>Computational Epidemiology - Problem Statement 3</center></h1>\n",
    "<h2><center>Anirudh Rao</center></h2>"
   ]
  },
  {
   "cell_type": "markdown",
   "id": "29d22555",
   "metadata": {},
   "source": [
    "<h3>Data Preprocessing</h3>"
   ]
  },
  {
   "cell_type": "markdown",
   "id": "b972d52f",
   "metadata": {},
   "source": [
    "First, we have to import the necessary libraries to build our regression model and then load in the dataset."
   ]
  },
  {
   "cell_type": "code",
   "execution_count": 1,
   "id": "7f3185a1",
   "metadata": {},
   "outputs": [],
   "source": [
    "import numpy as np\n",
    "import pandas as pd\n",
    "import matplotlib.pyplot as plt\n",
    "import seaborn as sns"
   ]
  },
  {
   "cell_type": "code",
   "execution_count": 2,
   "id": "ba423b6c",
   "metadata": {},
   "outputs": [],
   "source": [
    "data = pd.read_csv(\"PS3DataSet.csv\")"
   ]
  },
  {
   "cell_type": "code",
   "execution_count": 3,
   "id": "48860a0b",
   "metadata": {},
   "outputs": [],
   "source": [
    "data.rename(columns={\"pIC50 (IC50 in microM)\":\"pIC50\"},inplace=True)"
   ]
  },
  {
   "cell_type": "code",
   "execution_count": 4,
   "id": "43071c8e",
   "metadata": {},
   "outputs": [
    {
     "data": {
      "text/html": [
       "<div>\n",
       "<style scoped>\n",
       "    .dataframe tbody tr th:only-of-type {\n",
       "        vertical-align: middle;\n",
       "    }\n",
       "\n",
       "    .dataframe tbody tr th {\n",
       "        vertical-align: top;\n",
       "    }\n",
       "\n",
       "    .dataframe thead th {\n",
       "        text-align: right;\n",
       "    }\n",
       "</style>\n",
       "<table border=\"1\" class=\"dataframe\">\n",
       "  <thead>\n",
       "    <tr style=\"text-align: right;\">\n",
       "      <th></th>\n",
       "      <th>Compound No.</th>\n",
       "      <th>SMILES</th>\n",
       "      <th>pIC50</th>\n",
       "    </tr>\n",
       "  </thead>\n",
       "  <tbody>\n",
       "    <tr>\n",
       "      <th>0</th>\n",
       "      <td>1</td>\n",
       "      <td>FC1=CC(Cl)=C(CN2C(=O)C(=O)C3=CC(I)=CC=C23)C=C1</td>\n",
       "      <td>-0.973127854</td>\n",
       "    </tr>\n",
       "    <tr>\n",
       "      <th>1</th>\n",
       "      <td>2</td>\n",
       "      <td>CC1=NC(SCC(=O)NC2=CC=C(Cl)C=C2F)=NC(=C1)C(F)(F)F</td>\n",
       "      <td>-2.698970004</td>\n",
       "    </tr>\n",
       "    <tr>\n",
       "      <th>2</th>\n",
       "      <td>3</td>\n",
       "      <td>ClC1=CC(OC(=O)C2=CC3=C(OC2=O)C=CC=C3)=CN=C1</td>\n",
       "      <td>0.966576245</td>\n",
       "    </tr>\n",
       "    <tr>\n",
       "      <th>3</th>\n",
       "      <td>4</td>\n",
       "      <td>COC(=O)C1(C)CCCC2=C3C(=O)C(=O)C4=C(OC=C4C)C3=C...</td>\n",
       "      <td>-1.324282455</td>\n",
       "    </tr>\n",
       "    <tr>\n",
       "      <th>4</th>\n",
       "      <td>5</td>\n",
       "      <td>FC(F)(F)C1=CC=C(NC(=O)CSC2=NC(=CC=N2)C2=CC(=NO...</td>\n",
       "      <td>-1.176091259</td>\n",
       "    </tr>\n",
       "  </tbody>\n",
       "</table>\n",
       "</div>"
      ],
      "text/plain": [
       "   Compound No.                                             SMILES  \\\n",
       "0             1     FC1=CC(Cl)=C(CN2C(=O)C(=O)C3=CC(I)=CC=C23)C=C1   \n",
       "1             2   CC1=NC(SCC(=O)NC2=CC=C(Cl)C=C2F)=NC(=C1)C(F)(F)F   \n",
       "2             3        ClC1=CC(OC(=O)C2=CC3=C(OC2=O)C=CC=C3)=CN=C1   \n",
       "3             4  COC(=O)C1(C)CCCC2=C3C(=O)C(=O)C4=C(OC=C4C)C3=C...   \n",
       "4             5  FC(F)(F)C1=CC=C(NC(=O)CSC2=NC(=CC=N2)C2=CC(=NO...   \n",
       "\n",
       "          pIC50  \n",
       "0  -0.973127854  \n",
       "1  -2.698970004  \n",
       "2   0.966576245  \n",
       "3  -1.324282455  \n",
       "4  -1.176091259  "
      ]
     },
     "execution_count": 4,
     "metadata": {},
     "output_type": "execute_result"
    }
   ],
   "source": [
    "data.head()"
   ]
  },
  {
   "cell_type": "markdown",
   "id": "cdd071c2",
   "metadata": {},
   "source": [
    "Next, we have to load in the descriptors we generated using ChemDes."
   ]
  },
  {
   "cell_type": "code",
   "execution_count": 5,
   "id": "22193599",
   "metadata": {},
   "outputs": [],
   "source": [
    "descriptors = pd.read_csv(\"PS3Descriptors.csv\").drop(\"Name\",axis=1)"
   ]
  },
  {
   "cell_type": "code",
   "execution_count": 6,
   "id": "51b6162b",
   "metadata": {},
   "outputs": [
    {
     "data": {
      "text/html": [
       "<div>\n",
       "<style scoped>\n",
       "    .dataframe tbody tr th:only-of-type {\n",
       "        vertical-align: middle;\n",
       "    }\n",
       "\n",
       "    .dataframe tbody tr th {\n",
       "        vertical-align: top;\n",
       "    }\n",
       "\n",
       "    .dataframe thead th {\n",
       "        text-align: right;\n",
       "    }\n",
       "</style>\n",
       "<table border=\"1\" class=\"dataframe\">\n",
       "  <thead>\n",
       "    <tr style=\"text-align: right;\">\n",
       "      <th></th>\n",
       "      <th>nAcid</th>\n",
       "      <th>ALogP</th>\n",
       "      <th>ALogp2</th>\n",
       "      <th>AMR</th>\n",
       "      <th>nA</th>\n",
       "      <th>nR</th>\n",
       "      <th>nN</th>\n",
       "      <th>nD</th>\n",
       "      <th>nC</th>\n",
       "      <th>nF</th>\n",
       "      <th>...</th>\n",
       "      <th>AMW</th>\n",
       "      <th>WTPT-1</th>\n",
       "      <th>WTPT-2</th>\n",
       "      <th>WTPT-3</th>\n",
       "      <th>WTPT-4</th>\n",
       "      <th>WTPT-5</th>\n",
       "      <th>WPATH</th>\n",
       "      <th>WPOL</th>\n",
       "      <th>XLogP</th>\n",
       "      <th>Zagreb</th>\n",
       "    </tr>\n",
       "  </thead>\n",
       "  <tbody>\n",
       "    <tr>\n",
       "      <th>0</th>\n",
       "      <td>0</td>\n",
       "      <td>1.6428</td>\n",
       "      <td>2.698792</td>\n",
       "      <td>93.4623</td>\n",
       "      <td>0</td>\n",
       "      <td>0</td>\n",
       "      <td>0</td>\n",
       "      <td>0</td>\n",
       "      <td>0</td>\n",
       "      <td>0</td>\n",
       "      <td>...</td>\n",
       "      <td>14.307836</td>\n",
       "      <td>42.640158</td>\n",
       "      <td>2.030484</td>\n",
       "      <td>16.234940</td>\n",
       "      <td>5.126131</td>\n",
       "      <td>3.503379</td>\n",
       "      <td>898.0</td>\n",
       "      <td>35.0</td>\n",
       "      <td>1.939</td>\n",
       "      <td>114.0</td>\n",
       "    </tr>\n",
       "    <tr>\n",
       "      <th>1</th>\n",
       "      <td>0</td>\n",
       "      <td>1.8127</td>\n",
       "      <td>3.285881</td>\n",
       "      <td>88.9575</td>\n",
       "      <td>0</td>\n",
       "      <td>0</td>\n",
       "      <td>0</td>\n",
       "      <td>0</td>\n",
       "      <td>0</td>\n",
       "      <td>0</td>\n",
       "      <td>...</td>\n",
       "      <td>11.147557</td>\n",
       "      <td>47.449052</td>\n",
       "      <td>1.977044</td>\n",
       "      <td>26.965144</td>\n",
       "      <td>2.541079</td>\n",
       "      <td>9.170576</td>\n",
       "      <td>1516.0</td>\n",
       "      <td>34.0</td>\n",
       "      <td>1.883</td>\n",
       "      <td>122.0</td>\n",
       "    </tr>\n",
       "    <tr>\n",
       "      <th>2</th>\n",
       "      <td>0</td>\n",
       "      <td>0.5982</td>\n",
       "      <td>0.357843</td>\n",
       "      <td>82.2506</td>\n",
       "      <td>0</td>\n",
       "      <td>0</td>\n",
       "      <td>0</td>\n",
       "      <td>0</td>\n",
       "      <td>0</td>\n",
       "      <td>0</td>\n",
       "      <td>...</td>\n",
       "      <td>10.379799</td>\n",
       "      <td>42.954881</td>\n",
       "      <td>2.045471</td>\n",
       "      <td>16.813633</td>\n",
       "      <td>11.287793</td>\n",
       "      <td>3.003056</td>\n",
       "      <td>956.0</td>\n",
       "      <td>32.0</td>\n",
       "      <td>1.281</td>\n",
       "      <td>110.0</td>\n",
       "    </tr>\n",
       "    <tr>\n",
       "      <th>3</th>\n",
       "      <td>0</td>\n",
       "      <td>0.2781</td>\n",
       "      <td>0.077340</td>\n",
       "      <td>93.4084</td>\n",
       "      <td>0</td>\n",
       "      <td>0</td>\n",
       "      <td>0</td>\n",
       "      <td>0</td>\n",
       "      <td>0</td>\n",
       "      <td>0</td>\n",
       "      <td>...</td>\n",
       "      <td>7.863149</td>\n",
       "      <td>51.283726</td>\n",
       "      <td>2.051349</td>\n",
       "      <td>13.431186</td>\n",
       "      <td>13.431186</td>\n",
       "      <td>0.000000</td>\n",
       "      <td>1291.0</td>\n",
       "      <td>53.0</td>\n",
       "      <td>1.891</td>\n",
       "      <td>144.0</td>\n",
       "    </tr>\n",
       "    <tr>\n",
       "      <th>4</th>\n",
       "      <td>0</td>\n",
       "      <td>2.9999</td>\n",
       "      <td>8.999400</td>\n",
       "      <td>135.3784</td>\n",
       "      <td>0</td>\n",
       "      <td>0</td>\n",
       "      <td>0</td>\n",
       "      <td>0</td>\n",
       "      <td>0</td>\n",
       "      <td>0</td>\n",
       "      <td>...</td>\n",
       "      <td>11.149124</td>\n",
       "      <td>69.087677</td>\n",
       "      <td>2.031991</td>\n",
       "      <td>33.349849</td>\n",
       "      <td>5.660856</td>\n",
       "      <td>12.405386</td>\n",
       "      <td>4276.0</td>\n",
       "      <td>51.0</td>\n",
       "      <td>3.363</td>\n",
       "      <td>180.0</td>\n",
       "    </tr>\n",
       "  </tbody>\n",
       "</table>\n",
       "<p>5 rows × 1544 columns</p>\n",
       "</div>"
      ],
      "text/plain": [
       "   nAcid   ALogP    ALogp2       AMR  nA  nR  nN  nD  nC  nF  ...        AMW  \\\n",
       "0      0  1.6428  2.698792   93.4623   0   0   0   0   0   0  ...  14.307836   \n",
       "1      0  1.8127  3.285881   88.9575   0   0   0   0   0   0  ...  11.147557   \n",
       "2      0  0.5982  0.357843   82.2506   0   0   0   0   0   0  ...  10.379799   \n",
       "3      0  0.2781  0.077340   93.4084   0   0   0   0   0   0  ...   7.863149   \n",
       "4      0  2.9999  8.999400  135.3784   0   0   0   0   0   0  ...  11.149124   \n",
       "\n",
       "      WTPT-1    WTPT-2     WTPT-3     WTPT-4     WTPT-5   WPATH  WPOL  XLogP  \\\n",
       "0  42.640158  2.030484  16.234940   5.126131   3.503379   898.0  35.0  1.939   \n",
       "1  47.449052  1.977044  26.965144   2.541079   9.170576  1516.0  34.0  1.883   \n",
       "2  42.954881  2.045471  16.813633  11.287793   3.003056   956.0  32.0  1.281   \n",
       "3  51.283726  2.051349  13.431186  13.431186   0.000000  1291.0  53.0  1.891   \n",
       "4  69.087677  2.031991  33.349849   5.660856  12.405386  4276.0  51.0  3.363   \n",
       "\n",
       "   Zagreb  \n",
       "0   114.0  \n",
       "1   122.0  \n",
       "2   110.0  \n",
       "3   144.0  \n",
       "4   180.0  \n",
       "\n",
       "[5 rows x 1544 columns]"
      ]
     },
     "execution_count": 6,
     "metadata": {},
     "output_type": "execute_result"
    }
   ],
   "source": [
    "descriptors.head()"
   ]
  },
  {
   "cell_type": "markdown",
   "id": "a578d637",
   "metadata": {},
   "source": [
    "We can concatenate the two dataframes in order to train our model."
   ]
  },
  {
   "cell_type": "code",
   "execution_count": 7,
   "id": "2fea190e",
   "metadata": {},
   "outputs": [],
   "source": [
    "df = pd.concat([data,descriptors],axis=1).set_index(\"Compound No.\")"
   ]
  },
  {
   "cell_type": "code",
   "execution_count": 8,
   "id": "1927725c",
   "metadata": {},
   "outputs": [
    {
     "data": {
      "text/html": [
       "<div>\n",
       "<style scoped>\n",
       "    .dataframe tbody tr th:only-of-type {\n",
       "        vertical-align: middle;\n",
       "    }\n",
       "\n",
       "    .dataframe tbody tr th {\n",
       "        vertical-align: top;\n",
       "    }\n",
       "\n",
       "    .dataframe thead th {\n",
       "        text-align: right;\n",
       "    }\n",
       "</style>\n",
       "<table border=\"1\" class=\"dataframe\">\n",
       "  <thead>\n",
       "    <tr style=\"text-align: right;\">\n",
       "      <th></th>\n",
       "      <th>SMILES</th>\n",
       "      <th>pIC50</th>\n",
       "      <th>nAcid</th>\n",
       "      <th>ALogP</th>\n",
       "      <th>ALogp2</th>\n",
       "      <th>AMR</th>\n",
       "      <th>nA</th>\n",
       "      <th>nR</th>\n",
       "      <th>nN</th>\n",
       "      <th>nD</th>\n",
       "      <th>...</th>\n",
       "      <th>AMW</th>\n",
       "      <th>WTPT-1</th>\n",
       "      <th>WTPT-2</th>\n",
       "      <th>WTPT-3</th>\n",
       "      <th>WTPT-4</th>\n",
       "      <th>WTPT-5</th>\n",
       "      <th>WPATH</th>\n",
       "      <th>WPOL</th>\n",
       "      <th>XLogP</th>\n",
       "      <th>Zagreb</th>\n",
       "    </tr>\n",
       "    <tr>\n",
       "      <th>Compound No.</th>\n",
       "      <th></th>\n",
       "      <th></th>\n",
       "      <th></th>\n",
       "      <th></th>\n",
       "      <th></th>\n",
       "      <th></th>\n",
       "      <th></th>\n",
       "      <th></th>\n",
       "      <th></th>\n",
       "      <th></th>\n",
       "      <th></th>\n",
       "      <th></th>\n",
       "      <th></th>\n",
       "      <th></th>\n",
       "      <th></th>\n",
       "      <th></th>\n",
       "      <th></th>\n",
       "      <th></th>\n",
       "      <th></th>\n",
       "      <th></th>\n",
       "      <th></th>\n",
       "    </tr>\n",
       "  </thead>\n",
       "  <tbody>\n",
       "    <tr>\n",
       "      <th>1</th>\n",
       "      <td>FC1=CC(Cl)=C(CN2C(=O)C(=O)C3=CC(I)=CC=C23)C=C1</td>\n",
       "      <td>-0.973127854</td>\n",
       "      <td>0</td>\n",
       "      <td>1.6428</td>\n",
       "      <td>2.698792</td>\n",
       "      <td>93.4623</td>\n",
       "      <td>0</td>\n",
       "      <td>0</td>\n",
       "      <td>0</td>\n",
       "      <td>0</td>\n",
       "      <td>...</td>\n",
       "      <td>14.307836</td>\n",
       "      <td>42.640158</td>\n",
       "      <td>2.030484</td>\n",
       "      <td>16.234940</td>\n",
       "      <td>5.126131</td>\n",
       "      <td>3.503379</td>\n",
       "      <td>898.0</td>\n",
       "      <td>35.0</td>\n",
       "      <td>1.939</td>\n",
       "      <td>114.0</td>\n",
       "    </tr>\n",
       "    <tr>\n",
       "      <th>2</th>\n",
       "      <td>CC1=NC(SCC(=O)NC2=CC=C(Cl)C=C2F)=NC(=C1)C(F)(F)F</td>\n",
       "      <td>-2.698970004</td>\n",
       "      <td>0</td>\n",
       "      <td>1.8127</td>\n",
       "      <td>3.285881</td>\n",
       "      <td>88.9575</td>\n",
       "      <td>0</td>\n",
       "      <td>0</td>\n",
       "      <td>0</td>\n",
       "      <td>0</td>\n",
       "      <td>...</td>\n",
       "      <td>11.147557</td>\n",
       "      <td>47.449052</td>\n",
       "      <td>1.977044</td>\n",
       "      <td>26.965144</td>\n",
       "      <td>2.541079</td>\n",
       "      <td>9.170576</td>\n",
       "      <td>1516.0</td>\n",
       "      <td>34.0</td>\n",
       "      <td>1.883</td>\n",
       "      <td>122.0</td>\n",
       "    </tr>\n",
       "    <tr>\n",
       "      <th>3</th>\n",
       "      <td>ClC1=CC(OC(=O)C2=CC3=C(OC2=O)C=CC=C3)=CN=C1</td>\n",
       "      <td>0.966576245</td>\n",
       "      <td>0</td>\n",
       "      <td>0.5982</td>\n",
       "      <td>0.357843</td>\n",
       "      <td>82.2506</td>\n",
       "      <td>0</td>\n",
       "      <td>0</td>\n",
       "      <td>0</td>\n",
       "      <td>0</td>\n",
       "      <td>...</td>\n",
       "      <td>10.379799</td>\n",
       "      <td>42.954881</td>\n",
       "      <td>2.045471</td>\n",
       "      <td>16.813633</td>\n",
       "      <td>11.287793</td>\n",
       "      <td>3.003056</td>\n",
       "      <td>956.0</td>\n",
       "      <td>32.0</td>\n",
       "      <td>1.281</td>\n",
       "      <td>110.0</td>\n",
       "    </tr>\n",
       "    <tr>\n",
       "      <th>4</th>\n",
       "      <td>COC(=O)C1(C)CCCC2=C3C(=O)C(=O)C4=C(OC=C4C)C3=C...</td>\n",
       "      <td>-1.324282455</td>\n",
       "      <td>0</td>\n",
       "      <td>0.2781</td>\n",
       "      <td>0.077340</td>\n",
       "      <td>93.4084</td>\n",
       "      <td>0</td>\n",
       "      <td>0</td>\n",
       "      <td>0</td>\n",
       "      <td>0</td>\n",
       "      <td>...</td>\n",
       "      <td>7.863149</td>\n",
       "      <td>51.283726</td>\n",
       "      <td>2.051349</td>\n",
       "      <td>13.431186</td>\n",
       "      <td>13.431186</td>\n",
       "      <td>0.000000</td>\n",
       "      <td>1291.0</td>\n",
       "      <td>53.0</td>\n",
       "      <td>1.891</td>\n",
       "      <td>144.0</td>\n",
       "    </tr>\n",
       "    <tr>\n",
       "      <th>5</th>\n",
       "      <td>FC(F)(F)C1=CC=C(NC(=O)CSC2=NC(=CC=N2)C2=CC(=NO...</td>\n",
       "      <td>-1.176091259</td>\n",
       "      <td>0</td>\n",
       "      <td>2.9999</td>\n",
       "      <td>8.999400</td>\n",
       "      <td>135.3784</td>\n",
       "      <td>0</td>\n",
       "      <td>0</td>\n",
       "      <td>0</td>\n",
       "      <td>0</td>\n",
       "      <td>...</td>\n",
       "      <td>11.149124</td>\n",
       "      <td>69.087677</td>\n",
       "      <td>2.031991</td>\n",
       "      <td>33.349849</td>\n",
       "      <td>5.660856</td>\n",
       "      <td>12.405386</td>\n",
       "      <td>4276.0</td>\n",
       "      <td>51.0</td>\n",
       "      <td>3.363</td>\n",
       "      <td>180.0</td>\n",
       "    </tr>\n",
       "  </tbody>\n",
       "</table>\n",
       "<p>5 rows × 1546 columns</p>\n",
       "</div>"
      ],
      "text/plain": [
       "                                                         SMILES         pIC50  \\\n",
       "Compound No.                                                                    \n",
       "1                FC1=CC(Cl)=C(CN2C(=O)C(=O)C3=CC(I)=CC=C23)C=C1  -0.973127854   \n",
       "2              CC1=NC(SCC(=O)NC2=CC=C(Cl)C=C2F)=NC(=C1)C(F)(F)F  -2.698970004   \n",
       "3                   ClC1=CC(OC(=O)C2=CC3=C(OC2=O)C=CC=C3)=CN=C1   0.966576245   \n",
       "4             COC(=O)C1(C)CCCC2=C3C(=O)C(=O)C4=C(OC=C4C)C3=C...  -1.324282455   \n",
       "5             FC(F)(F)C1=CC=C(NC(=O)CSC2=NC(=CC=N2)C2=CC(=NO...  -1.176091259   \n",
       "\n",
       "              nAcid   ALogP    ALogp2       AMR  nA  nR  nN  nD  ...  \\\n",
       "Compound No.                                                     ...   \n",
       "1                 0  1.6428  2.698792   93.4623   0   0   0   0  ...   \n",
       "2                 0  1.8127  3.285881   88.9575   0   0   0   0  ...   \n",
       "3                 0  0.5982  0.357843   82.2506   0   0   0   0  ...   \n",
       "4                 0  0.2781  0.077340   93.4084   0   0   0   0  ...   \n",
       "5                 0  2.9999  8.999400  135.3784   0   0   0   0  ...   \n",
       "\n",
       "                    AMW     WTPT-1    WTPT-2     WTPT-3     WTPT-4     WTPT-5  \\\n",
       "Compound No.                                                                    \n",
       "1             14.307836  42.640158  2.030484  16.234940   5.126131   3.503379   \n",
       "2             11.147557  47.449052  1.977044  26.965144   2.541079   9.170576   \n",
       "3             10.379799  42.954881  2.045471  16.813633  11.287793   3.003056   \n",
       "4              7.863149  51.283726  2.051349  13.431186  13.431186   0.000000   \n",
       "5             11.149124  69.087677  2.031991  33.349849   5.660856  12.405386   \n",
       "\n",
       "               WPATH  WPOL  XLogP  Zagreb  \n",
       "Compound No.                               \n",
       "1              898.0  35.0  1.939   114.0  \n",
       "2             1516.0  34.0  1.883   122.0  \n",
       "3              956.0  32.0  1.281   110.0  \n",
       "4             1291.0  53.0  1.891   144.0  \n",
       "5             4276.0  51.0  3.363   180.0  \n",
       "\n",
       "[5 rows x 1546 columns]"
      ]
     },
     "execution_count": 8,
     "metadata": {},
     "output_type": "execute_result"
    }
   ],
   "source": [
    "df.head()"
   ]
  },
  {
   "cell_type": "markdown",
   "id": "fb1fcec8",
   "metadata": {},
   "source": [
    "Now, we have to ensure we have no missing descriptor data."
   ]
  },
  {
   "cell_type": "code",
   "execution_count": 9,
   "id": "fb582b3e",
   "metadata": {},
   "outputs": [
    {
     "name": "stdout",
     "output_type": "stream",
     "text": [
      "MolIP\n"
     ]
    }
   ],
   "source": [
    "for column in df.columns:\n",
    "    if df[column].isna().sum() > 0:\n",
    "        print(column)"
   ]
  },
  {
   "cell_type": "markdown",
   "id": "9cb5979c",
   "metadata": {},
   "source": [
    "Since the 'MolIP' has missing values, we can drop it."
   ]
  },
  {
   "cell_type": "code",
   "execution_count": 10,
   "id": "04ddc8ed",
   "metadata": {},
   "outputs": [],
   "source": [
    "df = df.drop(\"MolIP\", axis=1)"
   ]
  },
  {
   "cell_type": "markdown",
   "id": "b289e5cb",
   "metadata": {},
   "source": [
    "We can now divide our dataset into those with and without 'BLINDED' pIC50 values."
   ]
  },
  {
   "cell_type": "code",
   "execution_count": 11,
   "id": "1df6aceb",
   "metadata": {},
   "outputs": [],
   "source": [
    "blinded = df[df[\"pIC50\"] == \"BLINDED\"]"
   ]
  },
  {
   "cell_type": "code",
   "execution_count": 12,
   "id": "46cc4724",
   "metadata": {},
   "outputs": [],
   "source": [
    "df = df[df[\"pIC50\"] != \"BLINDED\"]"
   ]
  },
  {
   "cell_type": "markdown",
   "id": "1ed70453",
   "metadata": {},
   "source": [
    "We have to cast the pIC50 values as floats in order to train the regression model."
   ]
  },
  {
   "cell_type": "code",
   "execution_count": 13,
   "id": "37dd3635",
   "metadata": {},
   "outputs": [],
   "source": [
    "df[\"pIC50\"] = df[\"pIC50\"].astype(float)"
   ]
  },
  {
   "cell_type": "markdown",
   "id": "19b7a503",
   "metadata": {},
   "source": [
    "Next, we split the data into features and label. The features would be the descriptors while the label would be the pIC50 value to be predicted."
   ]
  },
  {
   "cell_type": "code",
   "execution_count": 14,
   "id": "07959c05",
   "metadata": {},
   "outputs": [],
   "source": [
    "X = df.drop([\"SMILES\",\"pIC50\"],axis=1)\n",
    "y = df[\"pIC50\"]"
   ]
  },
  {
   "cell_type": "markdown",
   "id": "ab6a46a7",
   "metadata": {},
   "source": [
    "We have to split the data into training and testing set to ensure fair model evaluation."
   ]
  },
  {
   "cell_type": "code",
   "execution_count": 15,
   "id": "dd763ae3",
   "metadata": {},
   "outputs": [],
   "source": [
    "from sklearn.model_selection import train_test_split"
   ]
  },
  {
   "cell_type": "code",
   "execution_count": 16,
   "id": "1dbba0f8",
   "metadata": {},
   "outputs": [],
   "source": [
    "X_train, X_test, y_train, y_test = train_test_split(X, y, test_size=0.1, random_state=101)"
   ]
  },
  {
   "cell_type": "markdown",
   "id": "ec1c5f69",
   "metadata": {},
   "source": [
    "Since the features are of different magnitudes, we have to scale our data."
   ]
  },
  {
   "cell_type": "code",
   "execution_count": 17,
   "id": "8385cd11",
   "metadata": {},
   "outputs": [],
   "source": [
    "from sklearn.preprocessing import MinMaxScaler"
   ]
  },
  {
   "cell_type": "code",
   "execution_count": 18,
   "id": "f3b7a083",
   "metadata": {},
   "outputs": [],
   "source": [
    "scaler = MinMaxScaler()"
   ]
  },
  {
   "cell_type": "code",
   "execution_count": 19,
   "id": "bc27c103",
   "metadata": {},
   "outputs": [],
   "source": [
    "X_train = scaler.fit_transform(X_train)"
   ]
  },
  {
   "cell_type": "code",
   "execution_count": 20,
   "id": "233f741f",
   "metadata": {},
   "outputs": [],
   "source": [
    "X_test = scaler.transform(X_test)"
   ]
  },
  {
   "cell_type": "markdown",
   "id": "3f1e2b96",
   "metadata": {},
   "source": [
    "<h3>Model Training</h3>"
   ]
  },
  {
   "cell_type": "markdown",
   "id": "3e040e58",
   "metadata": {},
   "source": [
    "We will use a <b>Gradient Boosting Regressor</b> for our QSAR model."
   ]
  },
  {
   "cell_type": "code",
   "execution_count": 21,
   "id": "3860b3b5",
   "metadata": {},
   "outputs": [],
   "source": [
    "from sklearn.ensemble import GradientBoostingRegressor"
   ]
  },
  {
   "cell_type": "code",
   "execution_count": 22,
   "id": "4c14bfde",
   "metadata": {},
   "outputs": [],
   "source": [
    "model = GradientBoostingRegressor(random_state=42)"
   ]
  },
  {
   "cell_type": "markdown",
   "id": "0d2e10ca",
   "metadata": {},
   "source": [
    "We have to train our model and then validate it using the test data.\n",
    "<br>\n",
    "We can use <b>leave-one-out cross validation</b> during the training phase to obtain additional statistics about model performance."
   ]
  },
  {
   "cell_type": "code",
   "execution_count": 23,
   "id": "d4d44b35",
   "metadata": {},
   "outputs": [],
   "source": [
    "from sklearn.model_selection import cross_val_predict"
   ]
  },
  {
   "cell_type": "code",
   "execution_count": 24,
   "id": "f8f82ece",
   "metadata": {},
   "outputs": [],
   "source": [
    "loo_pred = cross_val_predict(model, X_train, y_train, cv=len(X_train))"
   ]
  },
  {
   "cell_type": "code",
   "execution_count": 25,
   "id": "99baf534",
   "metadata": {},
   "outputs": [
    {
     "data": {
      "text/plain": [
       "GradientBoostingRegressor(random_state=42)"
      ]
     },
     "execution_count": 25,
     "metadata": {},
     "output_type": "execute_result"
    }
   ],
   "source": [
    "model.fit(X_train, y_train)"
   ]
  },
  {
   "cell_type": "code",
   "execution_count": 26,
   "id": "92aebbce",
   "metadata": {},
   "outputs": [],
   "source": [
    "test_pred = model.predict(X_test)"
   ]
  },
  {
   "cell_type": "markdown",
   "id": "9fc61478",
   "metadata": {},
   "source": [
    "<h3>Model Validation</h3>"
   ]
  },
  {
   "cell_type": "code",
   "execution_count": 27,
   "id": "5c0101f4",
   "metadata": {},
   "outputs": [],
   "source": [
    "from sklearn.metrics import mean_absolute_error, mean_squared_error, r2_score"
   ]
  },
  {
   "cell_type": "markdown",
   "id": "c6e5d1f9",
   "metadata": {},
   "source": [
    "From the LOO cross validation, we can obtain the LOO-Q2 score."
   ]
  },
  {
   "cell_type": "code",
   "execution_count": 28,
   "id": "6799e634",
   "metadata": {},
   "outputs": [
    {
     "data": {
      "text/plain": [
       "0.48454091932262344"
      ]
     },
     "execution_count": 28,
     "metadata": {},
     "output_type": "execute_result"
    }
   ],
   "source": [
    "loo_q2 = r2_score(y_train,loo_pred)\n",
    "loo_q2"
   ]
  },
  {
   "cell_type": "markdown",
   "id": "19607299",
   "metadata": {},
   "source": [
    "From the test set, we can obtain the R2 score, mean absolute error (MAE) and root mean square error (RMSE)."
   ]
  },
  {
   "cell_type": "code",
   "execution_count": 29,
   "id": "d9e01ace",
   "metadata": {},
   "outputs": [
    {
     "data": {
      "text/plain": [
       "0.7738387327560978"
      ]
     },
     "execution_count": 29,
     "metadata": {},
     "output_type": "execute_result"
    }
   ],
   "source": [
    "r2 = r2_score(y_test,test_pred)\n",
    "r2"
   ]
  },
  {
   "cell_type": "code",
   "execution_count": 30,
   "id": "58c22da1",
   "metadata": {},
   "outputs": [
    {
     "data": {
      "text/plain": [
       "0.2711474203986557"
      ]
     },
     "execution_count": 30,
     "metadata": {},
     "output_type": "execute_result"
    }
   ],
   "source": [
    "mae = mean_absolute_error(y_test,test_pred)\n",
    "mae"
   ]
  },
  {
   "cell_type": "code",
   "execution_count": 31,
   "id": "52c16d1b",
   "metadata": {},
   "outputs": [
    {
     "data": {
      "text/plain": [
       "0.34869274054976884"
      ]
     },
     "execution_count": 31,
     "metadata": {},
     "output_type": "execute_result"
    }
   ],
   "source": [
    "rmse = np.sqrt(mean_squared_error(y_test,test_pred))\n",
    "rmse"
   ]
  },
  {
   "cell_type": "markdown",
   "id": "166e5ed2",
   "metadata": {},
   "source": [
    "We can compare our RMSE to the standard deviation of our pIC50 values to decide if our model is performing well."
   ]
  },
  {
   "cell_type": "code",
   "execution_count": 32,
   "id": "e305d556",
   "metadata": {},
   "outputs": [
    {
     "data": {
      "text/plain": [
       "count    84.000000\n",
       "mean     -1.080404\n",
       "std       0.839463\n",
       "min      -2.698970\n",
       "25%      -1.554140\n",
       "50%      -1.167227\n",
       "75%      -0.694989\n",
       "max       1.200659\n",
       "Name: pIC50, dtype: float64"
      ]
     },
     "execution_count": 32,
     "metadata": {},
     "output_type": "execute_result"
    }
   ],
   "source": [
    "df[\"pIC50\"].describe()"
   ]
  },
  {
   "cell_type": "markdown",
   "id": "61ad7f49",
   "metadata": {},
   "source": [
    "As our RMSE is significantly lower than the standard deviation, we can say that our model is performing fairly well."
   ]
  },
  {
   "cell_type": "markdown",
   "id": "4571031a",
   "metadata": {},
   "source": [
    "We can also check the correlation coefficient between the true and predicted pIC50 values in our test set."
   ]
  },
  {
   "cell_type": "code",
   "execution_count": 33,
   "id": "5ff5891b",
   "metadata": {},
   "outputs": [],
   "source": [
    "pred = pd.concat([pd.DataFrame(y_test).reset_index(),pd.DataFrame(test_pred)],axis=1).set_index(\"Compound No.\").rename(columns={0:\"Predicted pIC50\"})"
   ]
  },
  {
   "cell_type": "code",
   "execution_count": 34,
   "id": "095c4d2e",
   "metadata": {},
   "outputs": [],
   "source": [
    "from scipy import stats"
   ]
  },
  {
   "cell_type": "code",
   "execution_count": 35,
   "id": "6853f6c7",
   "metadata": {},
   "outputs": [],
   "source": [
    "slope, intercept, r_value, pv, se = stats.linregress(pred['pIC50'],pred['Predicted pIC50'])"
   ]
  },
  {
   "cell_type": "code",
   "execution_count": 36,
   "id": "a9697fcd",
   "metadata": {},
   "outputs": [
    {
     "data": {
      "text/plain": [
       "0.880608257145103"
      ]
     },
     "execution_count": 36,
     "metadata": {},
     "output_type": "execute_result"
    }
   ],
   "source": [
    "corr = r_value\n",
    "corr"
   ]
  },
  {
   "cell_type": "markdown",
   "id": "dccdd761",
   "metadata": {},
   "source": [
    "We can also check the slope of the regression line."
   ]
  },
  {
   "cell_type": "code",
   "execution_count": 37,
   "id": "88f45f83",
   "metadata": {},
   "outputs": [
    {
     "data": {
      "image/png": "[encoded data removed]",
      "text/plain": [
       "<Figure size 432x288 with 1 Axes>"
      ]
     },
     "metadata": {
      "needs_background": "light"
     },
     "output_type": "display_data"
    }
   ],
   "source": [
    "sns.regplot(data=pred,x=\"pIC50\",y=\"Predicted pIC50\",label=\"y={0:.1f}x+{1:.1f}\".format(slope, intercept))\n",
    "plt.legend();"
   ]
  },
  {
   "cell_type": "markdown",
   "id": "45077c24",
   "metadata": {},
   "source": [
    "<h3>Predicting on Blinded Compounds</h3>"
   ]
  },
  {
   "cell_type": "code",
   "execution_count": 38,
   "id": "2ce62458",
   "metadata": {},
   "outputs": [],
   "source": [
    "blinded[\"Predicted pIC50\"] = model.predict(scaler.transform(blinded.drop([\"SMILES\",\"pIC50\"],axis=1)))"
   ]
  },
  {
   "cell_type": "code",
   "execution_count": 39,
   "id": "1cf282af",
   "metadata": {},
   "outputs": [
    {
     "data": {
      "text/html": [
       "<div>\n",
       "<style scoped>\n",
       "    .dataframe tbody tr th:only-of-type {\n",
       "        vertical-align: middle;\n",
       "    }\n",
       "\n",
       "    .dataframe tbody tr th {\n",
       "        vertical-align: top;\n",
       "    }\n",
       "\n",
       "    .dataframe thead th {\n",
       "        text-align: right;\n",
       "    }\n",
       "</style>\n",
       "<table border=\"1\" class=\"dataframe\">\n",
       "  <thead>\n",
       "    <tr style=\"text-align: right;\">\n",
       "      <th></th>\n",
       "      <th>SMILES</th>\n",
       "      <th>Predicted pIC50</th>\n",
       "    </tr>\n",
       "    <tr>\n",
       "      <th>Compound No.</th>\n",
       "      <th></th>\n",
       "      <th></th>\n",
       "    </tr>\n",
       "  </thead>\n",
       "  <tbody>\n",
       "    <tr>\n",
       "      <th>6</th>\n",
       "      <td>ClC1=CC(OC(=O)C2=C3C=CC=CC3=CC=C2)=CN=C1</td>\n",
       "      <td>-0.609510</td>\n",
       "    </tr>\n",
       "    <tr>\n",
       "      <th>12</th>\n",
       "      <td>CC1=CC(O)=NC(SCC(=O)NC2=CC=C(OC3=CC=C(Cl)C=C3)...</td>\n",
       "      <td>-2.183443</td>\n",
       "    </tr>\n",
       "    <tr>\n",
       "      <th>24</th>\n",
       "      <td>CC1=C(C=C(O1)C(C)(C)C)C1=NNC(NS(=O)(=O)C2=CC=C...</td>\n",
       "      <td>-1.568561</td>\n",
       "    </tr>\n",
       "    <tr>\n",
       "      <th>25</th>\n",
       "      <td>ClC(Cl)=C(Cl)C(=O)OC1=CC=C(C=C1)S(=O)(=O)C1=CC...</td>\n",
       "      <td>-1.283477</td>\n",
       "    </tr>\n",
       "    <tr>\n",
       "      <th>31</th>\n",
       "      <td>O=C1N(CC2=CC=C3C=CC=CC3=C2)C2=CC=C(C=C2C1=O)S(...</td>\n",
       "      <td>-0.839340</td>\n",
       "    </tr>\n",
       "    <tr>\n",
       "      <th>37</th>\n",
       "      <td>IC1=CC=C2N(C\\C=C\\C3=CC4=CC=CC=C4S3)C(=O)C(=O)C...</td>\n",
       "      <td>-0.436156</td>\n",
       "    </tr>\n",
       "    <tr>\n",
       "      <th>43</th>\n",
       "      <td>CC1CCCCN1S(=O)(=O)C1=CC2=C(NC(=O)C2=O)C=C1</td>\n",
       "      <td>-0.359989</td>\n",
       "    </tr>\n",
       "    <tr>\n",
       "      <th>59</th>\n",
       "      <td>[O-][N+](=O)C1=CC=C(C=C1)C1=CC=C(O1)C(=O)OC1=C...</td>\n",
       "      <td>0.478993</td>\n",
       "    </tr>\n",
       "    <tr>\n",
       "      <th>70</th>\n",
       "      <td>CC(SC1=NC(C2=CC=CC=C2)=C(C#N)C(=O)N1)C(=O)NC1=...</td>\n",
       "      <td>-2.050007</td>\n",
       "    </tr>\n",
       "    <tr>\n",
       "      <th>80</th>\n",
       "      <td>CC(C)C1=CC=C(NC(=O)CSC2=NC(=CC=N2)C2=CC=CS2)C=C1</td>\n",
       "      <td>-1.601486</td>\n",
       "    </tr>\n",
       "  </tbody>\n",
       "</table>\n",
       "</div>"
      ],
      "text/plain": [
       "                                                         SMILES  \\\n",
       "Compound No.                                                      \n",
       "6                      ClC1=CC(OC(=O)C2=C3C=CC=CC3=CC=C2)=CN=C1   \n",
       "12            CC1=CC(O)=NC(SCC(=O)NC2=CC=C(OC3=CC=C(Cl)C=C3)...   \n",
       "24            CC1=C(C=C(O1)C(C)(C)C)C1=NNC(NS(=O)(=O)C2=CC=C...   \n",
       "25            ClC(Cl)=C(Cl)C(=O)OC1=CC=C(C=C1)S(=O)(=O)C1=CC...   \n",
       "31            O=C1N(CC2=CC=C3C=CC=CC3=C2)C2=CC=C(C=C2C1=O)S(...   \n",
       "37            IC1=CC=C2N(C\\C=C\\C3=CC4=CC=CC=C4S3)C(=O)C(=O)C...   \n",
       "43                   CC1CCCCN1S(=O)(=O)C1=CC2=C(NC(=O)C2=O)C=C1   \n",
       "59            [O-][N+](=O)C1=CC=C(C=C1)C1=CC=C(O1)C(=O)OC1=C...   \n",
       "70            CC(SC1=NC(C2=CC=CC=C2)=C(C#N)C(=O)N1)C(=O)NC1=...   \n",
       "80             CC(C)C1=CC=C(NC(=O)CSC2=NC(=CC=N2)C2=CC=CS2)C=C1   \n",
       "\n",
       "              Predicted pIC50  \n",
       "Compound No.                   \n",
       "6                   -0.609510  \n",
       "12                  -2.183443  \n",
       "24                  -1.568561  \n",
       "25                  -1.283477  \n",
       "31                  -0.839340  \n",
       "37                  -0.436156  \n",
       "43                  -0.359989  \n",
       "59                   0.478993  \n",
       "70                  -2.050007  \n",
       "80                  -1.601486  "
      ]
     },
     "execution_count": 39,
     "metadata": {},
     "output_type": "execute_result"
    }
   ],
   "source": [
    "results = blinded[[\"SMILES\",\"Predicted pIC50\"]]\n",
    "results"
   ]
  },
  {
   "cell_type": "markdown",
   "id": "35328d2b",
   "metadata": {},
   "source": [
    "<ul>\n",
    "    <li>IC50 is the half maximal inhibitory concentration</li>\n",
    "    <li>Lower the IC50, the more potent the inhibitor</li>\n",
    "    <li>pIC50 = -log(IC50)</li>\n",
    "    <li>Higher the pIC50, the more potent the inhibitor</li>\n",
    "</ul>"
   ]
  },
  {
   "cell_type": "code",
   "execution_count": 40,
   "id": "1621d811",
   "metadata": {},
   "outputs": [
    {
     "data": {
      "text/html": [
       "<div>\n",
       "<style scoped>\n",
       "    .dataframe tbody tr th:only-of-type {\n",
       "        vertical-align: middle;\n",
       "    }\n",
       "\n",
       "    .dataframe tbody tr th {\n",
       "        vertical-align: top;\n",
       "    }\n",
       "\n",
       "    .dataframe thead th {\n",
       "        text-align: right;\n",
       "    }\n",
       "</style>\n",
       "<table border=\"1\" class=\"dataframe\">\n",
       "  <thead>\n",
       "    <tr style=\"text-align: right;\">\n",
       "      <th></th>\n",
       "      <th>SMILES</th>\n",
       "      <th>Predicted pIC50</th>\n",
       "    </tr>\n",
       "    <tr>\n",
       "      <th>Compound No.</th>\n",
       "      <th></th>\n",
       "      <th></th>\n",
       "    </tr>\n",
       "  </thead>\n",
       "  <tbody>\n",
       "    <tr>\n",
       "      <th>59</th>\n",
       "      <td>[O-][N+](=O)C1=CC=C(C=C1)C1=CC=C(O1)C(=O)OC1=C...</td>\n",
       "      <td>0.478993</td>\n",
       "    </tr>\n",
       "  </tbody>\n",
       "</table>\n",
       "</div>"
      ],
      "text/plain": [
       "                                                         SMILES  \\\n",
       "Compound No.                                                      \n",
       "59            [O-][N+](=O)C1=CC=C(C=C1)C1=CC=C(O1)C(=O)OC1=C...   \n",
       "\n",
       "              Predicted pIC50  \n",
       "Compound No.                   \n",
       "59                   0.478993  "
      ]
     },
     "execution_count": 40,
     "metadata": {},
     "output_type": "execute_result"
    }
   ],
   "source": [
    "results[results[\"Predicted pIC50\"]==results[\"Predicted pIC50\"].max()]"
   ]
  },
  {
   "cell_type": "markdown",
   "id": "f778d7a1",
   "metadata": {},
   "source": [
    "Compound 59 seems to be the best inhibitor."
   ]
  },
  {
   "cell_type": "code",
   "execution_count": 41,
   "id": "3a9ea5b1",
   "metadata": {},
   "outputs": [],
   "source": [
    "results.to_excel(\"PS3 Predictions - Anirudh Rao.xlsx\")"
   ]
  },
  {
   "cell_type": "markdown",
   "id": "117da93a",
   "metadata": {},
   "source": [
    "<hr>"
   ]
  }
 ],
 "metadata": {
  "kernelspec": {
   "display_name": "Python 3",
   "language": "python",
   "name": "python3"
  },
  "language_info": {
   "codemirror_mode": {
    "name": "ipython",
    "version": 3
   },
   "file_extension": ".py",
   "mimetype": "text/x-python",
   "name": "python",
   "nbconvert_exporter": "python",
   "pygments_lexer": "ipython3",
   "version": "3.8.8"
  }
 },
 "nbformat": 4,
 "nbformat_minor": 5
}
